{
  "cells": [
    {
      "cell_type": "markdown",
      "metadata": {
        "id": "j1HhkPKg_tYX"
      },
      "source": [
        "Assignmnet 1: Image Classification with Neural Networks\n",
        "=====================\n",
        "\n",
        "Data in Deep Learning\n",
        "----------------\n",
        "\n",
        "Generally, when you have to deal with image, text, audio or video data,\n",
        "you can use standard python packages that load data into a numpy array.\n",
        "Then you can convert this array into a ``torch.*Tensor``.\n",
        "\n",
        "-  For images, packages such as Pillow, OpenCV are useful\n",
        "-  For audio, packages such as scipy and librosa\n",
        "-  For text, either raw Python or Cython based loading, or NLTK and\n",
        "   SpaCy are useful\n",
        "\n",
        "Specifically for vision, we have created a package called\n",
        "``torchvision``, that has data loaders for common datasets such as\n",
        "ImageNet, CIFAR10, MNIST, etc. and data transformers for images, viz.,\n",
        "``torchvision.datasets`` and ``torch.utils.data.DataLoader``.\n",
        "\n",
        "This provides a huge convenience and avoids writing boilerplate code.\n",
        "\n",
        "For this assignment, we will use the CIFAR10 dataset.\n",
        "\n",
        "It has the classes:\n",
        "\n",
        "‘airplane’, ‘automobile’, ‘bird’, ‘cat’, ‘deer’,\n",
        "‘dog’, ‘frog’, ‘horse’, ‘ship’, ‘truck’.\n",
        "\n",
        "The images in CIFAR-10 are of size 3x32x32, i.e. 3-channel color images of 32x32 pixels in size.\n",
        "\n",
        "\n",
        "Training an image classifier\n",
        "----------------------------\n",
        "\n",
        "We will do the following steps in order:\n",
        "\n",
        "1. Load and normalize the CIFAR10 training and test datasets using\n",
        "   ``torchvision``\n",
        "2. Define a Convolutional Neural Network\n",
        "3. Define a loss function\n",
        "4. Train the network on the training data\n",
        "5. Test the network on the test data\n",
        "\n",
        "1. Load and normalize CIFAR10\n",
        "\n",
        "\n",
        "Using ``torchvision``, it’s extremely easy to load CIFAR10.\n",
        "\n"
      ]
    },
    {
      "cell_type": "code",
      "execution_count": 1,
      "metadata": {
        "id": "rOUZ6PvP_tYd"
      },
      "outputs": [],
      "source": [
        "import torch\n",
        "import torchvision\n",
        "import torchvision.transforms as transforms"
      ]
    },
    {
      "cell_type": "markdown",
      "metadata": {
        "id": "VCINS4Xl_tYe"
      },
      "source": [
        "## Define the dataset and dataloader\n",
        "\n",
        "The output of torchvision datasets are PILImage images of range [0, 1].\n",
        "We transform them to Tensors of normalized range [-1, 1].\n",
        "\n"
      ]
    },
    {
      "cell_type": "code",
      "execution_count": 2,
      "metadata": {
        "colab": {
          "base_uri": "https://localhost:8080/"
        },
        "id": "I0xCks16_tYe",
        "outputId": "6b397548-56ad-404b-c300-8d1f8548df70"
      },
      "outputs": [
        {
          "output_type": "stream",
          "name": "stdout",
          "text": [
            "Downloading https://www.cs.toronto.edu/~kriz/cifar-10-python.tar.gz to ./data/cifar-10-python.tar.gz\n"
          ]
        },
        {
          "output_type": "stream",
          "name": "stderr",
          "text": [
            "100%|██████████| 170498071/170498071 [00:04<00:00, 38459491.23it/s]\n"
          ]
        },
        {
          "output_type": "stream",
          "name": "stdout",
          "text": [
            "Extracting ./data/cifar-10-python.tar.gz to ./data\n",
            "Files already downloaded and verified\n",
            "Files already downloaded and verified\n",
            "Files already downloaded and verified\n"
          ]
        }
      ],
      "source": [
        "transform = transforms.Compose(\n",
        "    [transforms.ToTensor(),\n",
        "     transforms.Normalize((0.5, 0.5, 0.5), (0.5, 0.5, 0.5))])\n",
        "\n",
        "batch_size = 64\n",
        "\n",
        "def get_vis_loader():\n",
        "    transform = transforms.Compose(\n",
        "    [transforms.ToTensor(),\n",
        "     transforms.Normalize((0.5, 0.5, 0.5), (0.5, 0.5, 0.5))])\n",
        "\n",
        "    trainset = torchvision.datasets.CIFAR10(root='./data', train=True,\n",
        "                                            download=True, transform=transform)\n",
        "    trainloader = torch.utils.data.DataLoader(trainset, batch_size=4,\n",
        "                                              shuffle=True, num_workers=2)\n",
        "    testset = torchvision.datasets.CIFAR10(root='./data', train=False,\n",
        "                                           download=True, transform=transform)\n",
        "    testloader = torch.utils.data.DataLoader(testset, batch_size=4,\n",
        "                                             shuffle=False, num_workers=2)\n",
        "    return trainloader, testloader\n",
        "\n",
        "def get_train_loader(batch_size, transform):\n",
        "    trainset = torchvision.datasets.CIFAR10(root='./data', train=True,\n",
        "                                            download=True, transform=transform)\n",
        "    trainloader = torch.utils.data.DataLoader(trainset, batch_size=batch_size,\n",
        "                                              shuffle=True, num_workers=2)\n",
        "    return trainloader\n",
        "\n",
        "def get_test_loader(batch_size, transform):\n",
        "    testset = torchvision.datasets.CIFAR10(root='./data', train=False,\n",
        "                                           download=True, transform=transform)\n",
        "    testloader = torch.utils.data.DataLoader(testset, batch_size=batch_size,\n",
        "                                             shuffle=False, num_workers=2)\n",
        "    return testloader\n",
        "\n",
        "classes = ('plane', 'car', 'bird', 'cat',\n",
        "           'deer', 'dog', 'frog', 'horse', 'ship', 'truck')\n",
        "\n",
        "vistrainloader, vistestloader = get_vis_loader()\n",
        "trainloader = get_train_loader(batch_size, transform)\n",
        "testloader = get_test_loader(batch_size, transform)"
      ]
    },
    {
      "cell_type": "markdown",
      "metadata": {
        "id": "eJWLkwxT_tYf"
      },
      "source": [
        "## Visualization\n",
        "\n",
        "Let us show some of the training images, for fun.\n",
        "\n"
      ]
    },
    {
      "cell_type": "code",
      "execution_count": 3,
      "metadata": {
        "colab": {
          "base_uri": "https://localhost:8080/",
          "height": 210
        },
        "id": "nSy_x5M9_tYf",
        "outputId": "78f394a8-27b2-462a-ba5f-60de6315b859"
      },
      "outputs": [
        {
          "output_type": "display_data",
          "data": {
            "text/plain": [
              "<Figure size 640x480 with 1 Axes>"
            ],
            "image/png": "[encoded data removed]"
          },
          "metadata": {}
        },
        {
          "output_type": "stream",
          "name": "stdout",
          "text": [
            "  cat   dog   car  frog\n"
          ]
        }
      ],
      "source": [
        "import matplotlib.pyplot as plt\n",
        "import numpy as np\n",
        "\n",
        "# functions to show an image\n",
        "def imshow(img):\n",
        "    img = img / 2 + 0.5     # unnormalize\n",
        "    npimg = img.numpy()\n",
        "    plt.imshow(np.transpose(npimg, (1, 2, 0)))\n",
        "    plt.show()\n",
        "\n",
        "# get some random training images\n",
        "dataiter = iter(vistrainloader)\n",
        "images, labels = next(dataiter)\n",
        "\n",
        "# show images\n",
        "imshow(torchvision.utils.make_grid(images))\n",
        "# print labels\n",
        "print(' '.join('%5s' % classes[labels[j]] for j in range(4)))"
      ]
    },
    {
      "cell_type": "markdown",
      "metadata": {
        "id": "cbi5Coom_tYg"
      },
      "source": [
        "## Define a Neural Network"
      ]
    },
    {
      "cell_type": "code",
      "execution_count": 4,
      "metadata": {
        "id": "PgAq7r5G_tYg"
      },
      "outputs": [],
      "source": [
        "import torch.nn as nn\n",
        "import torch.nn.functional as F\n",
        "\n",
        "class NeuralNet(nn.Module):\n",
        "    def __init__(self):\n",
        "        super().__init__()\n",
        "        self.fc1 = nn.Linear(3*32*32, 128)\n",
        "        self.fc2 = nn.Linear(128, 256)\n",
        "        self.fc3 = nn.Linear(256, 512)\n",
        "        self.fc4 = nn.Linear(512, 10)\n",
        "\n",
        "    def forward(self, x):\n",
        "        x = torch.flatten(x, 1) # flatten all dimensions except batch\n",
        "        x = F.relu(self.fc1(x))\n",
        "        x = F.relu(self.fc2(x))\n",
        "        x = F.relu(self.fc3(x))\n",
        "        x = self.fc4(x)\n",
        "        return x\n",
        "\n",
        "fc_net = NeuralNet()"
      ]
    },
    {
      "cell_type": "markdown",
      "metadata": {
        "id": "fRDVTlwx_tYh"
      },
      "source": [
        "## Define a Loss function and optimizer\n",
        "\n",
        "Let's use a Classification Cross-Entropy loss and SGD with momentum.\n",
        "\n"
      ]
    },
    {
      "cell_type": "code",
      "execution_count": 5,
      "metadata": {
        "id": "lFqlx2aF_tYh"
      },
      "outputs": [],
      "source": [
        "import torch.optim as optim\n",
        "\n",
        "def get_optimizer(net, lr):\n",
        "    optimizer = optim.SGD(net.parameters(), lr=lr, momentum=0.9)\n",
        "    return optimizer\n",
        "\n",
        "def accuracy(output, target):\n",
        "    # get the index of the max log-probability\n",
        "    pred = output.max(1, keepdim=True)[1]\n",
        "    return pred.eq(target.view_as(pred)).float().mean()\n",
        "\n",
        "criterion = nn.CrossEntropyLoss()\n",
        "optimizer = get_optimizer(fc_net, 0.01)"
      ]
    },
    {
      "cell_type": "markdown",
      "metadata": {
        "id": "_LvV0YBi_tYi"
      },
      "source": [
        "## Define training code"
      ]
    },
    {
      "cell_type": "code",
      "execution_count": 6,
      "metadata": {
        "id": "znPmfV7x_tYi"
      },
      "outputs": [],
      "source": [
        "def forward_step(net, inputs, labels):\n",
        "    outputs = net(inputs)\n",
        "    loss = criterion(outputs, labels)\n",
        "    return outputs, loss, labels\n",
        "\n",
        "\n",
        "def train(net, loader, optimizer, max_epoch):\n",
        "    net.train()\n",
        "    N = len(loader)\n",
        "    print_interval = (N // 8 // 100 + 1) * 100\n",
        "    for epoch in range(max_epoch):  # loop over the dataset multiple times\n",
        "\n",
        "        running_loss = 0.0\n",
        "        running_acc = 0.0\n",
        "        for i, data in enumerate(loader, 0):\n",
        "            # get the inputs; data is a list of [inputs, labels]\n",
        "            inputs, labels = data\n",
        "\n",
        "            # zero the parameter gradients\n",
        "            optimizer.zero_grad()\n",
        "\n",
        "            # forward + backward + optimize\n",
        "            outputs, loss, labels = forward_step(net, inputs, labels)\n",
        "            loss.backward()\n",
        "            optimizer.step()\n",
        "\n",
        "            # print statistics\n",
        "            running_loss += loss.item()\n",
        "            running_acc += accuracy(outputs, labels).item()\n",
        "            if (i + 1) % print_interval == 0:\n",
        "                print('Epoch: [%d / %d], batches: [%d / %d], loss: %.3f, acc: %.2f' %\n",
        "                      (epoch + 1, max_epoch, i + 1, N,\n",
        "                       running_loss / print_interval, 100 * running_acc / print_interval))\n",
        "                running_loss = 0.0\n",
        "                running_acc = 0.0\n",
        "\n",
        "    print('Finished Training')"
      ]
    },
    {
      "cell_type": "markdown",
      "metadata": {
        "id": "oWlTPJQw_tYj"
      },
      "source": [
        "## Training on GPU?"
      ]
    },
    {
      "cell_type": "code",
      "execution_count": 7,
      "metadata": {
        "colab": {
          "base_uri": "https://localhost:8080/"
        },
        "id": "xrjYtIUy_tYj",
        "outputId": "1691458e-7d45-4a5a-bec7-5d808f257032"
      },
      "outputs": [
        {
          "output_type": "stream",
          "name": "stdout",
          "text": [
            "cpu\n"
          ]
        }
      ],
      "source": [
        "device = torch.device(\"cuda:0\" if torch.cuda.is_available() else \"cpu\")\n",
        "\n",
        "# Assuming that we are on a CUDA machine, this should print a CUDA device:\n",
        "print(device)"
      ]
    },
    {
      "cell_type": "markdown",
      "metadata": {
        "id": "59YLaI2Q_tYj"
      },
      "source": [
        "The rest of this section assumes that ``device`` is a CUDA device."
      ]
    },
    {
      "cell_type": "markdown",
      "metadata": {
        "id": "aRq08Ret_tYk"
      },
      "source": [
        "## Train the network\n",
        "\n",
        "This is when things start to get interesting.\n",
        "We simply have to loop over our data iterator, and feed the inputs to the\n",
        "network and optimize.\n",
        "\n"
      ]
    },
    {
      "cell_type": "code",
      "execution_count": null,
      "metadata": {
        "colab": {
          "base_uri": "https://localhost:8080/"
        },
        "id": "4HqDIylo_tYk",
        "outputId": "73aae488-05a3-4c0c-d0c5-23a9db038555"
      },
      "outputs": [
        {
          "output_type": "stream",
          "name": "stdout",
          "text": [
            "Epoch: [1 / 5], batches: [100 / 782], loss: 2.211, acc: 19.31\n",
            "Epoch: [1 / 5], batches: [200 / 782], loss: 1.918, acc: 30.48\n",
            "Epoch: [1 / 5], batches: [300 / 782], loss: 1.768, acc: 36.08\n",
            "Epoch: [1 / 5], batches: [400 / 782], loss: 1.708, acc: 38.33\n",
            "Epoch: [1 / 5], batches: [500 / 782], loss: 1.665, acc: 40.33\n",
            "Epoch: [1 / 5], batches: [600 / 782], loss: 1.637, acc: 41.44\n",
            "Epoch: [1 / 5], batches: [700 / 782], loss: 1.593, acc: 43.11\n",
            "Epoch: [2 / 5], batches: [100 / 782], loss: 1.529, acc: 45.75\n",
            "Epoch: [2 / 5], batches: [200 / 782], loss: 1.511, acc: 46.86\n",
            "Epoch: [2 / 5], batches: [300 / 782], loss: 1.498, acc: 46.55\n",
            "Epoch: [2 / 5], batches: [400 / 782], loss: 1.504, acc: 46.27\n",
            "Epoch: [2 / 5], batches: [500 / 782], loss: 1.449, acc: 48.09\n",
            "Epoch: [2 / 5], batches: [600 / 782], loss: 1.460, acc: 48.06\n",
            "Epoch: [2 / 5], batches: [700 / 782], loss: 1.459, acc: 47.33\n",
            "Epoch: [3 / 5], batches: [100 / 782], loss: 1.383, acc: 50.55\n",
            "Epoch: [3 / 5], batches: [200 / 782], loss: 1.386, acc: 50.67\n",
            "Epoch: [3 / 5], batches: [300 / 782], loss: 1.389, acc: 51.17\n",
            "Epoch: [3 / 5], batches: [400 / 782], loss: 1.365, acc: 50.80\n",
            "Epoch: [3 / 5], batches: [500 / 782], loss: 1.341, acc: 51.77\n",
            "Epoch: [3 / 5], batches: [600 / 782], loss: 1.356, acc: 51.94\n",
            "Epoch: [3 / 5], batches: [700 / 782], loss: 1.380, acc: 51.41\n",
            "Epoch: [4 / 5], batches: [100 / 782], loss: 1.252, acc: 56.06\n",
            "Epoch: [4 / 5], batches: [200 / 782], loss: 1.266, acc: 55.14\n",
            "Epoch: [4 / 5], batches: [300 / 782], loss: 1.300, acc: 54.02\n",
            "Epoch: [4 / 5], batches: [400 / 782], loss: 1.282, acc: 54.62\n",
            "Epoch: [4 / 5], batches: [500 / 782], loss: 1.300, acc: 54.55\n",
            "Epoch: [4 / 5], batches: [600 / 782], loss: 1.296, acc: 54.05\n",
            "Epoch: [4 / 5], batches: [700 / 782], loss: 1.269, acc: 54.88\n",
            "Epoch: [5 / 5], batches: [100 / 782], loss: 1.209, acc: 57.62\n",
            "Epoch: [5 / 5], batches: [200 / 782], loss: 1.215, acc: 56.89\n",
            "Epoch: [5 / 5], batches: [300 / 782], loss: 1.190, acc: 57.34\n",
            "Epoch: [5 / 5], batches: [400 / 782], loss: 1.206, acc: 57.47\n",
            "Epoch: [5 / 5], batches: [500 / 782], loss: 1.214, acc: 57.36\n",
            "Epoch: [5 / 5], batches: [600 / 782], loss: 1.210, acc: 57.50\n",
            "Epoch: [5 / 5], batches: [700 / 782], loss: 1.234, acc: 55.59\n",
            "Finished Training\n"
          ]
        }
      ],
      "source": [
        "train(fc_net, trainloader, optimizer, 5)"
      ]
    },
    {
      "cell_type": "markdown",
      "metadata": {
        "id": "Em9vYL3U_tYk"
      },
      "source": [
        "## Let's quickly save our trained model:\n",
        "\n"
      ]
    },
    {
      "cell_type": "code",
      "execution_count": 8,
      "metadata": {
        "id": "oFS9R-Wx_tYk"
      },
      "outputs": [],
      "source": [
        "PATH = './Assignment 1 - Image Classification'\n",
        "\n",
        "def save_model(net, path):\n",
        "    torch.save(net.state_dict(), path)\n",
        "\n",
        "save_model(fc_net, PATH)"
      ]
    },
    {
      "cell_type": "markdown",
      "metadata": {
        "id": "TvhDOWsB_tYl"
      },
      "source": [
        "## Test the network on the test data\n",
        "\n",
        "\n",
        "We have trained the network for 2 passes over the training dataset.\n",
        "But we need to check if the network has learnt anything at all.\n",
        "\n",
        "We will check this by predicting the class label that the neural network\n",
        "outputs, and checking it against the ground-truth. If the prediction is\n",
        "correct, we add the sample to the list of correct predictions.\n",
        "\n",
        "Okay, first step. Let us display an image from the test set to get familiar.\n",
        "\n"
      ]
    },
    {
      "cell_type": "code",
      "execution_count": 9,
      "metadata": {
        "colab": {
          "base_uri": "https://localhost:8080/",
          "height": 210
        },
        "id": "CnqJRbBx_tYl",
        "outputId": "cb729ff1-4995-4309-e1cb-40441072049b"
      },
      "outputs": [
        {
          "output_type": "display_data",
          "data": {
            "text/plain": [
              "<Figure size 640x480 with 1 Axes>"
            ],
            "image/png": "[encoded data removed]"
          },
          "metadata": {}
        },
        {
          "output_type": "stream",
          "name": "stdout",
          "text": [
            "GroundTruth:    cat  ship  ship plane\n"
          ]
        }
      ],
      "source": [
        "dataiter = iter(vistestloader)\n",
        "images, labels = next(dataiter)\n",
        "\n",
        "# print images\n",
        "imshow(torchvision.utils.make_grid(images))\n",
        "print('GroundTruth: ', ' '.join('%5s' % classes[labels[j]] for j in range(4)))"
      ]
    },
    {
      "cell_type": "markdown",
      "metadata": {
        "id": "4At4s4-M_tYl"
      },
      "source": [
        "## Load a model\n",
        "Next, let's load back in our saved model (note: saving and re-loading the model\n",
        "wasn't necessary here, we only did it to illustrate how to do so):\n",
        "\n"
      ]
    },
    {
      "cell_type": "code",
      "execution_count": 10,
      "metadata": {
        "colab": {
          "base_uri": "https://localhost:8080/"
        },
        "id": "A0j2WpiS_tYm",
        "outputId": "ea02055d-f857-4ca6-c9e3-e963b1569fdd"
      },
      "outputs": [
        {
          "output_type": "stream",
          "name": "stderr",
          "text": [
            "<ipython-input-10-5d561a9e3963>:4: FutureWarning: You are using `torch.load` with `weights_only=False` (the current default value), which uses the default pickle module implicitly. It is possible to construct malicious pickle data which will execute arbitrary code during unpickling (See https://github.com/pytorch/pytorch/blob/main/SECURITY.md#untrusted-models for more details). In a future release, the default value for `weights_only` will be flipped to `True`. This limits the functions that could be executed during unpickling. Arbitrary objects will no longer be allowed to be loaded via this mode unless they are explicitly allowlisted by the user via `torch.serialization.add_safe_globals`. We recommend you start setting `weights_only=True` for any use case where you don't have full control of the loaded file. Please open an issue on GitHub for any issues related to this experimental feature.\n",
            "  net.load_state_dict(torch.load(PATH))\n"
          ]
        }
      ],
      "source": [
        "net = NeuralNet()\n",
        "\n",
        "def load_model(net, path):\n",
        "    net.load_state_dict(torch.load(PATH))\n",
        "\n",
        "load_model(net, PATH)"
      ]
    },
    {
      "cell_type": "markdown",
      "metadata": {
        "id": "B7wjEfBY_tYm"
      },
      "source": [
        "Okay, now let us see what the neural network thinks these examples above are:\n",
        "\n"
      ]
    },
    {
      "cell_type": "code",
      "execution_count": 11,
      "metadata": {
        "id": "ZsG9BR-G_tYm"
      },
      "outputs": [],
      "source": [
        "outputs = net(images)"
      ]
    },
    {
      "cell_type": "markdown",
      "metadata": {
        "id": "jdLnwo3j_tYm"
      },
      "source": [
        "The outputs are energies for the 10 classes.\n",
        "The higher the energy for a class, the more the network\n",
        "thinks that the image is of the particular class.\n",
        "So, let's get the index of the highest energy:\n",
        "\n"
      ]
    },
    {
      "cell_type": "code",
      "execution_count": 12,
      "metadata": {
        "id": "T9Fy7F6U_tYn",
        "colab": {
          "base_uri": "https://localhost:8080/"
        },
        "outputId": "c85db8cc-51c3-464e-9cb8-1c0147cc942f"
      },
      "outputs": [
        {
          "output_type": "stream",
          "name": "stdout",
          "text": [
            "Predicted:    cat   cat   cat   cat\n"
          ]
        }
      ],
      "source": [
        "_, predicted = torch.max(outputs, 1)\n",
        "\n",
        "print('Predicted: ', ' '.join('%5s' % classes[predicted[j]]\n",
        "                              for j in range(4)))"
      ]
    },
    {
      "cell_type": "markdown",
      "metadata": {
        "id": "Mvr4fkYr_tYn"
      },
      "source": [
        "## Define testing code"
      ]
    },
    {
      "cell_type": "code",
      "execution_count": 13,
      "metadata": {
        "id": "KBssUocu_tYn"
      },
      "outputs": [],
      "source": [
        "def test(net, testloader):\n",
        "    correct = 0\n",
        "    total = 0\n",
        "    net.eval()\n",
        "    # since we're not training, we don't need to calculate the gradients for our outputs\n",
        "    with torch.no_grad():\n",
        "        for data in testloader:\n",
        "            images, labels = data\n",
        "            # calculate outputs by running images through the network\n",
        "            outputs = net(images)\n",
        "            # the class with the highest energy is what we choose as prediction\n",
        "            _, predicted = torch.max(outputs.data, 1)\n",
        "            total += labels.size(0)\n",
        "            correct += (predicted == labels).sum().item()\n",
        "\n",
        "    print('Accuracy of the network on the 10000 test images: %d %%' % (\n",
        "        100 * correct / total))"
      ]
    },
    {
      "cell_type": "code",
      "execution_count": null,
      "metadata": {
        "id": "3GBkzPpO_tYn",
        "colab": {
          "base_uri": "https://localhost:8080/"
        },
        "outputId": "e5645e9d-3d25-41cd-9b55-e993f5b56874"
      },
      "outputs": [
        {
          "output_type": "stream",
          "name": "stdout",
          "text": [
            "Accuracy of the network on the 10000 test images: 52 %\n"
          ]
        }
      ],
      "source": [
        "test(net, testloader)"
      ]
    },
    {
      "cell_type": "markdown",
      "metadata": {
        "id": "7s0l3g5h_tYo"
      },
      "source": [
        "## See accuracy of each class\n",
        "\n",
        "That looks way better than chance, which is 10% accuracy (randomly picking\n",
        "a class out of 10 classes).\n",
        "Seems like the network learnt something.\n",
        "\n",
        "Hmmm, what are the classes that performed well, and the classes that did\n",
        "not perform well:\n",
        "\n"
      ]
    },
    {
      "cell_type": "code",
      "execution_count": 14,
      "metadata": {
        "id": "5CSNR8Mu_tYo"
      },
      "outputs": [],
      "source": [
        "def class_test(net, testloader):\n",
        "    # prepare to count predictions for each class\n",
        "    correct_pred = {classname: 0 for classname in classes}\n",
        "    total_pred = {classname: 0 for classname in classes}\n",
        "\n",
        "    net.eval()\n",
        "    # again no gradients needed\n",
        "    with torch.no_grad():\n",
        "        for data in testloader:\n",
        "            images, labels = data\n",
        "            outputs = net(images)\n",
        "            _, predictions = torch.max(outputs, 1)\n",
        "            # collect the correct predictions for each class\n",
        "            for label, prediction in zip(labels, predictions):\n",
        "                if label == prediction:\n",
        "                    correct_pred[classes[label]] += 1\n",
        "                total_pred[classes[label]] += 1\n",
        "\n",
        "\n",
        "    # print accuracy for each class\n",
        "    for classname, correct_count in correct_pred.items():\n",
        "        acc = 100 * float(correct_count) / total_pred[classname]\n",
        "        print(\"Accuracy for class {:5s} is: {:.1f} %\".format(classname,\n",
        "                                                       acc))"
      ]
    },
    {
      "cell_type": "code",
      "execution_count": null,
      "metadata": {
        "id": "WqkYM0zB_tYo",
        "colab": {
          "base_uri": "https://localhost:8080/"
        },
        "outputId": "a79a0dc9-a7dd-41d0-f274-0bcb831c5de8"
      },
      "outputs": [
        {
          "output_type": "stream",
          "name": "stdout",
          "text": [
            "Accuracy for class plane is: 45.5 %\n",
            "Accuracy for class car   is: 63.8 %\n",
            "Accuracy for class bird  is: 44.5 %\n",
            "Accuracy for class cat   is: 37.2 %\n",
            "Accuracy for class deer  is: 53.0 %\n",
            "Accuracy for class dog   is: 40.2 %\n",
            "Accuracy for class frog  is: 61.8 %\n",
            "Accuracy for class horse is: 49.3 %\n",
            "Accuracy for class ship  is: 69.6 %\n",
            "Accuracy for class truck is: 58.3 %\n"
          ]
        }
      ],
      "source": [
        "class_test(net, testloader)"
      ]
    },
    {
      "cell_type": "markdown",
      "metadata": {
        "id": "P1oy_ASO_tYp"
      },
      "source": [
        "# Your turn now!"
      ]
    },
    {
      "cell_type": "markdown",
      "metadata": {
        "id": "j0rwr3cV_tYp"
      },
      "source": [
        "## Define a Convolutional Neural Network\n",
        "\n",
        "The architecture should be:\n",
        "\n",
        "    conv2d, 5x5, 3->8, padding=2\n",
        "\n",
        "    Relu()\n",
        "\n",
        "    conv2d, 5x5, 8->16, padding=2, stride=2\n",
        "\n",
        "    Relu()\n",
        "\n",
        "    conv2d, 5x5, 16->32, padding=2\n",
        "    \n",
        "    Relu()\n",
        "\n",
        "    conv2d, 5x5, 32->64, padding=2, stride=2\n",
        "    \n",
        "    Relu()\n",
        "\n",
        "    conv2d, 5x5, 64->128, padding=2\n",
        "\n",
        "    maxpool2d\n",
        "\n",
        "    Relu()\n",
        "\n",
        "    flatten the feature map\n",
        "\n",
        "    fc, the whole feature map -> 120\n",
        "\n",
        "    Relu()\n",
        "\n",
        "    fc, 120->84\n",
        "\n",
        "    Relu()\n",
        "\n",
        "    fc, 84->10\n",
        "    "
      ]
    },
    {
      "cell_type": "code",
      "execution_count": 15,
      "metadata": {
        "id": "YUo5lESj_tYp"
      },
      "outputs": [],
      "source": [
        "import torch.nn as nn\n",
        "import torch.nn.functional as F\n",
        "\n",
        "\n",
        "class ConvolutionNet(nn.Module):\n",
        "    def __init__(self):\n",
        "        super().__init__()\n",
        "\n",
        "        self.conv1 = nn.Conv2d(3, 8, kernel_size=5, padding=2)\n",
        "        self.conv2 = nn.Conv2d(8, 16, kernel_size=5, padding=2, stride=2)\n",
        "        self.conv3 = nn.Conv2d(16, 32, kernel_size=5, padding=2)\n",
        "        self.conv4 = nn.Conv2d(32, 64, kernel_size=5, padding=2, stride=2)\n",
        "        self.conv5 = nn.Conv2d(64, 128, kernel_size=5, padding=2)\n",
        "\n",
        "        self.maxpool = nn.MaxPool2d(kernel_size=2, stride=2)\n",
        "\n",
        "        self.fc1 = nn.Linear(128 * 4 * 4, 120)\n",
        "        self.fc2 = nn.Linear(120, 84)\n",
        "        self.fc3 = nn.Linear(84, 10)\n",
        "        #pass\n",
        "\n",
        "    def forward(self, x):\n",
        "\n",
        "        x = F.relu(self.conv1(x))\n",
        "        x = F.relu(self.conv2(x))\n",
        "        x = F.relu(self.conv3(x))\n",
        "        x = F.relu(self.conv4(x))\n",
        "        x = F.relu(self.conv5(x))\n",
        "\n",
        "        x = self.maxpool(x)\n",
        "\n",
        "        x = x.view(-1, 128 * 4 * 4)\n",
        "\n",
        "        x = F.relu(self.fc1(x))\n",
        "        x = F.relu(self.fc2(x))\n",
        "        x = self.fc3(x)\n",
        "        #pass\n",
        "        return x\n",
        "\n",
        "net_conv = ConvolutionNet()"
      ]
    },
    {
      "cell_type": "markdown",
      "metadata": {
        "id": "fVfSZbTh_tYp"
      },
      "source": [
        "## Train the convolutional neural network\n",
        "\n",
        "Train this CNN with learning rate 1e-2 for 5 epochs.\n",
        "\n",
        "You should see the training loss is aroung 0.9 and accuracy is around 67%."
      ]
    },
    {
      "cell_type": "code",
      "execution_count": null,
      "metadata": {
        "id": "6lryWLqI_tYq",
        "colab": {
          "base_uri": "https://localhost:8080/"
        },
        "outputId": "7d0265c3-c4b1-448c-c2c1-8de3c4462a94"
      },
      "outputs": [
        {
          "output_type": "stream",
          "name": "stdout",
          "text": [
            "Epoch: [1 / 5], batches: [100 / 782], loss: 2.304, acc: 9.28\n",
            "Epoch: [1 / 5], batches: [200 / 782], loss: 2.303, acc: 10.22\n",
            "Epoch: [1 / 5], batches: [300 / 782], loss: 2.303, acc: 10.39\n",
            "Epoch: [1 / 5], batches: [400 / 782], loss: 2.299, acc: 12.36\n",
            "Epoch: [1 / 5], batches: [500 / 782], loss: 2.201, acc: 17.69\n",
            "Epoch: [1 / 5], batches: [600 / 782], loss: 2.072, acc: 23.98\n",
            "Epoch: [1 / 5], batches: [700 / 782], loss: 1.981, acc: 26.17\n",
            "Epoch: [2 / 5], batches: [100 / 782], loss: 1.755, acc: 34.58\n",
            "Epoch: [2 / 5], batches: [200 / 782], loss: 1.678, acc: 37.61\n",
            "Epoch: [2 / 5], batches: [300 / 782], loss: 1.617, acc: 40.06\n",
            "Epoch: [2 / 5], batches: [400 / 782], loss: 1.567, acc: 42.91\n",
            "Epoch: [2 / 5], batches: [500 / 782], loss: 1.524, acc: 44.44\n",
            "Epoch: [2 / 5], batches: [600 / 782], loss: 1.496, acc: 45.56\n",
            "Epoch: [2 / 5], batches: [700 / 782], loss: 1.469, acc: 46.81\n",
            "Epoch: [3 / 5], batches: [100 / 782], loss: 1.392, acc: 49.23\n",
            "Epoch: [3 / 5], batches: [200 / 782], loss: 1.399, acc: 49.22\n",
            "Epoch: [3 / 5], batches: [300 / 782], loss: 1.354, acc: 50.88\n",
            "Epoch: [3 / 5], batches: [400 / 782], loss: 1.301, acc: 53.03\n",
            "Epoch: [3 / 5], batches: [500 / 782], loss: 1.277, acc: 53.73\n",
            "Epoch: [3 / 5], batches: [600 / 782], loss: 1.264, acc: 54.98\n",
            "Epoch: [3 / 5], batches: [700 / 782], loss: 1.245, acc: 55.45\n",
            "Epoch: [4 / 5], batches: [100 / 782], loss: 1.169, acc: 57.84\n",
            "Epoch: [4 / 5], batches: [200 / 782], loss: 1.163, acc: 57.61\n",
            "Epoch: [4 / 5], batches: [300 / 782], loss: 1.164, acc: 58.95\n",
            "Epoch: [4 / 5], batches: [400 / 782], loss: 1.154, acc: 59.38\n",
            "Epoch: [4 / 5], batches: [500 / 782], loss: 1.119, acc: 59.80\n",
            "Epoch: [4 / 5], batches: [600 / 782], loss: 1.111, acc: 60.66\n",
            "Epoch: [4 / 5], batches: [700 / 782], loss: 1.117, acc: 60.48\n",
            "Epoch: [5 / 5], batches: [100 / 782], loss: 1.002, acc: 64.28\n",
            "Epoch: [5 / 5], batches: [200 / 782], loss: 0.981, acc: 64.84\n",
            "Epoch: [5 / 5], batches: [300 / 782], loss: 0.993, acc: 64.72\n",
            "Epoch: [5 / 5], batches: [400 / 782], loss: 0.987, acc: 64.59\n",
            "Epoch: [5 / 5], batches: [500 / 782], loss: 0.997, acc: 64.67\n",
            "Epoch: [5 / 5], batches: [600 / 782], loss: 0.997, acc: 65.45\n",
            "Epoch: [5 / 5], batches: [700 / 782], loss: 0.970, acc: 65.97\n",
            "Finished Training\n"
          ]
        }
      ],
      "source": [
        "criterion = nn.CrossEntropyLoss()\n",
        "optimizer = get_optimizer(net_conv, 0.01)\n",
        "\n",
        "train(net_conv, trainloader, optimizer, 5)"
      ]
    },
    {
      "cell_type": "code",
      "source": [
        "save_model(net_conv, PATH)"
      ],
      "metadata": {
        "id": "5QYmOf3aDgt9"
      },
      "execution_count": null,
      "outputs": []
    },
    {
      "cell_type": "markdown",
      "metadata": {
        "id": "wvHEJIBm_tYq"
      },
      "source": [
        "## Test the convolutional neural network\n",
        "\n",
        "Test this CNN on the test dataset.\n",
        "\n",
        "You should see the accuracy is around 62%."
      ]
    },
    {
      "cell_type": "code",
      "execution_count": null,
      "metadata": {
        "id": "1EAKpukP_tYw",
        "colab": {
          "base_uri": "https://localhost:8080/"
        },
        "outputId": "286b40a0-db36-40cc-c9e7-7ae4f472f763"
      },
      "outputs": [
        {
          "output_type": "stream",
          "name": "stderr",
          "text": [
            "<ipython-input-17-5d561a9e3963>:4: FutureWarning: You are using `torch.load` with `weights_only=False` (the current default value), which uses the default pickle module implicitly. It is possible to construct malicious pickle data which will execute arbitrary code during unpickling (See https://github.com/pytorch/pytorch/blob/main/SECURITY.md#untrusted-models for more details). In a future release, the default value for `weights_only` will be flipped to `True`. This limits the functions that could be executed during unpickling. Arbitrary objects will no longer be allowed to be loaded via this mode unless they are explicitly allowlisted by the user via `torch.serialization.add_safe_globals`. We recommend you start setting `weights_only=True` for any use case where you don't have full control of the loaded file. Please open an issue on GitHub for any issues related to this experimental feature.\n",
            "  net.load_state_dict(torch.load(PATH))\n"
          ]
        },
        {
          "output_type": "stream",
          "name": "stdout",
          "text": [
            "Accuracy of the network on the 10000 test images: 62 %\n"
          ]
        }
      ],
      "source": [
        "net = ConvolutionNet()\n",
        "\n",
        "load_model(net, PATH)\n",
        "\n",
        "test(net, testloader)"
      ]
    },
    {
      "cell_type": "markdown",
      "metadata": {
        "id": "IbTiB7BL_tYw"
      },
      "source": [
        "## Accuracy (each class) of CNN\n",
        "\n",
        "Test this CNN on the test dataset to see the accuracy of each class."
      ]
    },
    {
      "cell_type": "code",
      "execution_count": null,
      "metadata": {
        "id": "6K3j-x6q_tYx",
        "colab": {
          "base_uri": "https://localhost:8080/"
        },
        "outputId": "4239d75a-0002-4093-b1af-0e8ca78ef0ca"
      },
      "outputs": [
        {
          "output_type": "stream",
          "name": "stdout",
          "text": [
            "Accuracy for class plane is: 62.1 %\n",
            "Accuracy for class car   is: 78.7 %\n",
            "Accuracy for class bird  is: 49.1 %\n",
            "Accuracy for class cat   is: 26.4 %\n",
            "Accuracy for class deer  is: 54.0 %\n",
            "Accuracy for class dog   is: 54.4 %\n",
            "Accuracy for class frog  is: 84.1 %\n",
            "Accuracy for class horse is: 65.8 %\n",
            "Accuracy for class ship  is: 81.9 %\n",
            "Accuracy for class truck is: 67.8 %\n"
          ]
        }
      ],
      "source": [
        "class_test(net, testloader)"
      ]
    },
    {
      "cell_type": "markdown",
      "metadata": {
        "id": "NknyaagF_tYx"
      },
      "source": [
        "## Let's use BN\n",
        "\n",
        "Add BatchNorm2d to the convolution neural network you implemented.\n",
        "\n",
        "You should add batchnorm after the convolution operator and before the activation layer.\n",
        "\n",
        "Please train this network and show the test accuracy."
      ]
    },
    {
      "cell_type": "code",
      "execution_count": null,
      "metadata": {
        "id": "xx4oaioj_tYx"
      },
      "outputs": [],
      "source": [
        "import torch.nn as nn\n",
        "import torch.nn.functional as F\n",
        "\n",
        "class ConvolutionBNNet(nn.Module):\n",
        "    def __init__(self):\n",
        "        super().__init__()\n",
        "        self.conv1 = nn.Conv2d(3, 8, kernel_size=5, padding=2)\n",
        "        self.bn1 = nn.BatchNorm2d(8)\n",
        "\n",
        "        self.conv2 = nn.Conv2d(8, 16, kernel_size=5, padding=2, stride=2)\n",
        "        self.bn2 = nn.BatchNorm2d(16)\n",
        "\n",
        "        self.conv3 = nn.Conv2d(16, 32, kernel_size=5, padding=2)\n",
        "        self.bn3 = nn.BatchNorm2d(32)\n",
        "\n",
        "        self.conv4 = nn.Conv2d(32, 64, kernel_size=5, padding=2, stride=2)\n",
        "        self.bn4 = nn.BatchNorm2d(64)\n",
        "\n",
        "        self.conv5 = nn.Conv2d(64, 128, kernel_size=5, padding=2)\n",
        "        self.bn5 = nn.BatchNorm2d(128)\n",
        "\n",
        "        self.maxpool = nn.MaxPool2d(kernel_size=2)\n",
        "\n",
        "        self.fc1 = nn.Linear(128 * 4 * 4, 120)\n",
        "        self.fc2 = nn.Linear(120, 84)\n",
        "        self.fc3 = nn.Linear(84, 10)\n",
        "        #pass\n",
        "\n",
        "    def forward(self, x):\n",
        "        x = F.relu(self.bn1(self.conv1(x)))\n",
        "        x = F.relu(self.bn2(self.conv2(x)))\n",
        "        x = F.relu(self.bn3(self.conv3(x)))\n",
        "        x = F.relu(self.bn4(self.conv4(x)))\n",
        "        x = F.relu(self.bn5(self.conv5(x)))\n",
        "        x = self.maxpool(x)\n",
        "\n",
        "        x = x.view(-1, 128 * 4 * 4)\n",
        "\n",
        "        x = F.relu(self.fc1(x))\n",
        "        x = F.relu(self.fc2(x))\n",
        "        x = self.fc3(x)\n",
        "\n",
        "        #pass\n",
        "        return x\n",
        "\n",
        "net_conv_bn = ConvolutionBNNet()"
      ]
    },
    {
      "cell_type": "markdown",
      "metadata": {
        "id": "D7Y1u8Z1_tYx"
      },
      "source": [
        "## Train the CNN with BN\n",
        "\n",
        "Train this CNN with learning rate 1e-2 for 5 epochs."
      ]
    },
    {
      "cell_type": "code",
      "execution_count": null,
      "metadata": {
        "id": "enziLIf-_tYy",
        "colab": {
          "base_uri": "https://localhost:8080/"
        },
        "outputId": "75fd46d0-b663-419c-9b08-10cc266d1801"
      },
      "outputs": [
        {
          "output_type": "stream",
          "name": "stdout",
          "text": [
            "Epoch: [1 / 5], batches: [100 / 782], loss: 1.984, acc: 24.83\n",
            "Epoch: [1 / 5], batches: [200 / 782], loss: 1.678, acc: 37.08\n",
            "Epoch: [1 / 5], batches: [300 / 782], loss: 1.526, acc: 44.31\n",
            "Epoch: [1 / 5], batches: [400 / 782], loss: 1.464, acc: 46.78\n",
            "Epoch: [1 / 5], batches: [500 / 782], loss: 1.378, acc: 49.78\n",
            "Epoch: [1 / 5], batches: [600 / 782], loss: 1.341, acc: 51.94\n",
            "Epoch: [1 / 5], batches: [700 / 782], loss: 1.241, acc: 55.41\n",
            "Epoch: [2 / 5], batches: [100 / 782], loss: 1.163, acc: 58.06\n",
            "Epoch: [2 / 5], batches: [200 / 782], loss: 1.106, acc: 60.23\n",
            "Epoch: [2 / 5], batches: [300 / 782], loss: 1.089, acc: 60.64\n",
            "Epoch: [2 / 5], batches: [400 / 782], loss: 1.045, acc: 62.47\n",
            "Epoch: [2 / 5], batches: [500 / 782], loss: 1.023, acc: 62.97\n",
            "Epoch: [2 / 5], batches: [600 / 782], loss: 1.007, acc: 64.48\n",
            "Epoch: [2 / 5], batches: [700 / 782], loss: 0.967, acc: 65.72\n",
            "Epoch: [3 / 5], batches: [100 / 782], loss: 0.869, acc: 69.05\n",
            "Epoch: [3 / 5], batches: [200 / 782], loss: 0.852, acc: 70.06\n",
            "Epoch: [3 / 5], batches: [300 / 782], loss: 0.843, acc: 70.09\n",
            "Epoch: [3 / 5], batches: [400 / 782], loss: 0.807, acc: 71.50\n",
            "Epoch: [3 / 5], batches: [500 / 782], loss: 0.826, acc: 71.28\n",
            "Epoch: [3 / 5], batches: [600 / 782], loss: 0.811, acc: 70.95\n",
            "Epoch: [3 / 5], batches: [700 / 782], loss: 0.794, acc: 72.16\n",
            "Epoch: [4 / 5], batches: [100 / 782], loss: 0.704, acc: 75.39\n",
            "Epoch: [4 / 5], batches: [200 / 782], loss: 0.659, acc: 77.34\n",
            "Epoch: [4 / 5], batches: [300 / 782], loss: 0.707, acc: 75.52\n",
            "Epoch: [4 / 5], batches: [400 / 782], loss: 0.689, acc: 75.39\n",
            "Epoch: [4 / 5], batches: [500 / 782], loss: 0.693, acc: 75.91\n",
            "Epoch: [4 / 5], batches: [600 / 782], loss: 0.682, acc: 75.78\n",
            "Epoch: [4 / 5], batches: [700 / 782], loss: 0.700, acc: 75.70\n",
            "Epoch: [5 / 5], batches: [100 / 782], loss: 0.587, acc: 79.20\n",
            "Epoch: [5 / 5], batches: [200 / 782], loss: 0.580, acc: 80.16\n",
            "Epoch: [5 / 5], batches: [300 / 782], loss: 0.575, acc: 79.80\n",
            "Epoch: [5 / 5], batches: [400 / 782], loss: 0.631, acc: 77.70\n",
            "Epoch: [5 / 5], batches: [500 / 782], loss: 0.610, acc: 78.38\n",
            "Epoch: [5 / 5], batches: [600 / 782], loss: 0.598, acc: 79.53\n",
            "Epoch: [5 / 5], batches: [700 / 782], loss: 0.592, acc: 79.31\n",
            "Finished Training\n"
          ]
        }
      ],
      "source": [
        "#pass\n",
        "criterion = nn.CrossEntropyLoss()\n",
        "optimizer = get_optimizer(net_conv_bn, 0.01)\n",
        "\n",
        "train(net_conv_bn, trainloader, optimizer, 5)"
      ]
    },
    {
      "cell_type": "markdown",
      "metadata": {
        "id": "J-M3tQBq_tYy"
      },
      "source": [
        "## Test the CNN with BN\n",
        "\n",
        "Test this CNN on the test dataset."
      ]
    },
    {
      "cell_type": "code",
      "execution_count": null,
      "metadata": {
        "id": "ecRtP_MI_tYy"
      },
      "outputs": [],
      "source": [
        "save_model(net_conv_bn, PATH)"
      ]
    },
    {
      "cell_type": "code",
      "source": [
        "net = ConvolutionBNNet()\n",
        "\n",
        "load_model(net, PATH)\n",
        "\n",
        "test(net, testloader)"
      ],
      "metadata": {
        "colab": {
          "base_uri": "https://localhost:8080/"
        },
        "id": "35dDg9eKRdEV",
        "outputId": "b7e55933-6b2b-4a4c-c8f5-2c7641b6a062"
      },
      "execution_count": null,
      "outputs": [
        {
          "output_type": "stream",
          "name": "stderr",
          "text": [
            "<ipython-input-17-5d561a9e3963>:4: FutureWarning: You are using `torch.load` with `weights_only=False` (the current default value), which uses the default pickle module implicitly. It is possible to construct malicious pickle data which will execute arbitrary code during unpickling (See https://github.com/pytorch/pytorch/blob/main/SECURITY.md#untrusted-models for more details). In a future release, the default value for `weights_only` will be flipped to `True`. This limits the functions that could be executed during unpickling. Arbitrary objects will no longer be allowed to be loaded via this mode unless they are explicitly allowlisted by the user via `torch.serialization.add_safe_globals`. We recommend you start setting `weights_only=True` for any use case where you don't have full control of the loaded file. Please open an issue on GitHub for any issues related to this experimental feature.\n",
            "  net.load_state_dict(torch.load(PATH))\n"
          ]
        },
        {
          "output_type": "stream",
          "name": "stdout",
          "text": [
            "Accuracy of the network on the 10000 test images: 74 %\n"
          ]
        }
      ]
    },
    {
      "cell_type": "markdown",
      "metadata": {
        "id": "-2PPX-cd_tYy"
      },
      "source": [
        "## Accuracy (each class) of CNN with BN\n",
        "\n",
        "Test this CNN with BNN on the test dataset to see the accuracy of each class."
      ]
    },
    {
      "cell_type": "code",
      "execution_count": null,
      "metadata": {
        "id": "J69murTS_tYz",
        "colab": {
          "base_uri": "https://localhost:8080/"
        },
        "outputId": "55260e09-f416-4ecc-aaf7-852884a73d58"
      },
      "outputs": [
        {
          "output_type": "stream",
          "name": "stdout",
          "text": [
            "Accuracy for class plane is: 84.7 %\n",
            "Accuracy for class car   is: 92.0 %\n",
            "Accuracy for class bird  is: 66.5 %\n",
            "Accuracy for class cat   is: 62.8 %\n",
            "Accuracy for class deer  is: 60.4 %\n",
            "Accuracy for class dog   is: 49.7 %\n",
            "Accuracy for class frog  is: 88.6 %\n",
            "Accuracy for class horse is: 79.0 %\n",
            "Accuracy for class ship  is: 85.2 %\n",
            "Accuracy for class truck is: 77.9 %\n"
          ]
        }
      ],
      "source": [
        "class_test(net, testloader)"
      ]
    },
    {
      "cell_type": "markdown",
      "metadata": {
        "id": "sAh1Vhh-_tYz"
      },
      "source": [
        "## Design by yourself\n",
        "Now, based on the knowledge learned in class or by referring to online resources, you can design your own network architecture or incorporate other optimization methods to improve task performance. Please provide at least one improvement strategy."
      ]
    },
    {
      "cell_type": "markdown",
      "source": [
        "## Build CNN with updated kernel size, BN and Dropout Regularization\n",
        "\n",
        "Update Kernel size and add Dropout Regularization to the convolution neural network."
      ],
      "metadata": {
        "id": "2vDJ96ZFdWHq"
      }
    },
    {
      "cell_type": "code",
      "execution_count": null,
      "metadata": {
        "id": "eopAF638_tYz"
      },
      "outputs": [],
      "source": [
        "import torch.nn as nn\n",
        "import torch.nn.functional as F\n",
        "\n",
        "class ConvolutionNetNew(nn.Module):\n",
        "    def __init__(self):\n",
        "        super(ConvolutionNetNew, self).__init__()\n",
        "        self.conv1 = nn.Conv2d(3, 8, kernel_size=3, padding=1)\n",
        "        self.bn1 = nn.BatchNorm2d(8)\n",
        "\n",
        "        self.conv2 = nn.Conv2d(8, 16, kernel_size=3, padding=1, stride=2)\n",
        "        self.bn2 = nn.BatchNorm2d(16)\n",
        "\n",
        "        self.conv3 = nn.Conv2d(16, 32, kernel_size=3, padding=1)\n",
        "        self.bn3 = nn.BatchNorm2d(32)\n",
        "\n",
        "        self.conv4 = nn.Conv2d(32, 64, kernel_size=3, padding=1, stride=2)\n",
        "        self.bn4 = nn.BatchNorm2d(64)\n",
        "\n",
        "        self.conv5 = nn.Conv2d(64, 128, kernel_size=3, padding=1)\n",
        "        self.bn5 = nn.BatchNorm2d(128)\n",
        "\n",
        "        self.maxpool = nn.MaxPool2d(kernel_size=2)\n",
        "\n",
        "        self.fc1 = nn.Linear(128 * 4 * 4, 120)\n",
        "        self.fc2 = nn.Linear(120, 84)\n",
        "        self.dropout = nn.Dropout(p=0.2)\n",
        "        self.fc3 = nn.Linear(84, 10)\n",
        "\n",
        "    def forward(self, x):\n",
        "        x = F.relu(self.bn1(self.conv1(x)))\n",
        "        x = F.relu(self.bn2(self.conv2(x)))\n",
        "        x = F.relu(self.bn3(self.conv3(x)))\n",
        "        x = F.relu(self.bn4(self.conv4(x)))\n",
        "        x = F.relu(self.bn5(self.conv5(x)))\n",
        "        x = self.maxpool(x)\n",
        "\n",
        "        x = x.view(x.size(0), -1)\n",
        "\n",
        "        x = F.relu(self.fc1(x))\n",
        "        x = F.relu(self.fc2(x))\n",
        "        x = self.dropout(x)\n",
        "        x = self.fc3(x)\n",
        "\n",
        "        return x\n",
        "\n",
        "net_conv_new = ConvolutionNetNew()\n"
      ]
    },
    {
      "cell_type": "markdown",
      "source": [
        "## Update the optimizer\n",
        "\n",
        "Update the optimizer uisng Adam."
      ],
      "metadata": {
        "id": "NDrbYsgUeN45"
      }
    },
    {
      "cell_type": "code",
      "source": [
        "import torch.optim as optim\n",
        "\n",
        "def get_optimizer_adam(net, lr):\n",
        "    optimizer = optim.Adam(net.parameters(), lr=lr, betas=(0.9, 0.999))\n",
        "    return optimizer\n",
        "\n",
        "criterion = nn.CrossEntropyLoss()\n",
        "optimizer = get_optimizer_adam(net_conv_new, 0.001)"
      ],
      "metadata": {
        "id": "R_eQywB8cj7G"
      },
      "execution_count": null,
      "outputs": []
    },
    {
      "cell_type": "markdown",
      "source": [
        "## Train the CNN with BN, Dropout Regularization and Leaky ReLU"
      ],
      "metadata": {
        "id": "da6fY9l7fTCq"
      }
    },
    {
      "cell_type": "code",
      "source": [
        "train(net_conv_new, trainloader, optimizer, 15)"
      ],
      "metadata": {
        "colab": {
          "base_uri": "https://localhost:8080/"
        },
        "id": "XflWI1YMfTWN",
        "outputId": "1e508f86-226e-45cd-ceaf-8f19cde4eb4e"
      },
      "execution_count": null,
      "outputs": [
        {
          "output_type": "stream",
          "name": "stdout",
          "text": [
            "Epoch: [1 / 15], batches: [100 / 782], loss: 1.903, acc: 29.11\n",
            "Epoch: [1 / 15], batches: [200 / 782], loss: 1.568, acc: 42.23\n",
            "Epoch: [1 / 15], batches: [300 / 782], loss: 1.431, acc: 46.69\n",
            "Epoch: [1 / 15], batches: [400 / 782], loss: 1.355, acc: 51.23\n",
            "Epoch: [1 / 15], batches: [500 / 782], loss: 1.258, acc: 53.75\n",
            "Epoch: [1 / 15], batches: [600 / 782], loss: 1.216, acc: 56.53\n",
            "Epoch: [1 / 15], batches: [700 / 782], loss: 1.151, acc: 58.97\n",
            "Epoch: [2 / 15], batches: [100 / 782], loss: 1.018, acc: 63.80\n",
            "Epoch: [2 / 15], batches: [200 / 782], loss: 1.015, acc: 64.17\n",
            "Epoch: [2 / 15], batches: [300 / 782], loss: 1.011, acc: 63.72\n",
            "Epoch: [2 / 15], batches: [400 / 782], loss: 0.966, acc: 66.09\n",
            "Epoch: [2 / 15], batches: [500 / 782], loss: 0.964, acc: 66.42\n",
            "Epoch: [2 / 15], batches: [600 / 782], loss: 0.932, acc: 67.55\n",
            "Epoch: [2 / 15], batches: [700 / 782], loss: 0.933, acc: 66.39\n",
            "Epoch: [3 / 15], batches: [100 / 782], loss: 0.823, acc: 71.36\n",
            "Epoch: [3 / 15], batches: [200 / 782], loss: 0.837, acc: 70.47\n",
            "Epoch: [3 / 15], batches: [300 / 782], loss: 0.821, acc: 71.48\n",
            "Epoch: [3 / 15], batches: [400 / 782], loss: 0.828, acc: 71.22\n",
            "Epoch: [3 / 15], batches: [500 / 782], loss: 0.800, acc: 72.23\n",
            "Epoch: [3 / 15], batches: [600 / 782], loss: 0.788, acc: 72.70\n",
            "Epoch: [3 / 15], batches: [700 / 782], loss: 0.800, acc: 72.12\n",
            "Epoch: [4 / 15], batches: [100 / 782], loss: 0.692, acc: 75.44\n",
            "Epoch: [4 / 15], batches: [200 / 782], loss: 0.711, acc: 75.69\n",
            "Epoch: [4 / 15], batches: [300 / 782], loss: 0.721, acc: 74.31\n",
            "Epoch: [4 / 15], batches: [400 / 782], loss: 0.716, acc: 75.42\n",
            "Epoch: [4 / 15], batches: [500 / 782], loss: 0.703, acc: 75.02\n",
            "Epoch: [4 / 15], batches: [600 / 782], loss: 0.711, acc: 75.41\n",
            "Epoch: [4 / 15], batches: [700 / 782], loss: 0.693, acc: 75.69\n",
            "Epoch: [5 / 15], batches: [100 / 782], loss: 0.622, acc: 78.41\n",
            "Epoch: [5 / 15], batches: [200 / 782], loss: 0.610, acc: 78.73\n",
            "Epoch: [5 / 15], batches: [300 / 782], loss: 0.623, acc: 78.61\n",
            "Epoch: [5 / 15], batches: [400 / 782], loss: 0.599, acc: 78.53\n",
            "Epoch: [5 / 15], batches: [500 / 782], loss: 0.629, acc: 77.77\n",
            "Epoch: [5 / 15], batches: [600 / 782], loss: 0.616, acc: 78.44\n",
            "Epoch: [5 / 15], batches: [700 / 782], loss: 0.652, acc: 77.34\n",
            "Epoch: [6 / 15], batches: [100 / 782], loss: 0.523, acc: 81.72\n",
            "Epoch: [6 / 15], batches: [200 / 782], loss: 0.529, acc: 81.02\n",
            "Epoch: [6 / 15], batches: [300 / 782], loss: 0.557, acc: 80.77\n",
            "Epoch: [6 / 15], batches: [400 / 782], loss: 0.530, acc: 81.58\n",
            "Epoch: [6 / 15], batches: [500 / 782], loss: 0.539, acc: 81.22\n",
            "Epoch: [6 / 15], batches: [600 / 782], loss: 0.570, acc: 80.33\n",
            "Epoch: [6 / 15], batches: [700 / 782], loss: 0.554, acc: 81.11\n",
            "Epoch: [7 / 15], batches: [100 / 782], loss: 0.449, acc: 84.23\n",
            "Epoch: [7 / 15], batches: [200 / 782], loss: 0.458, acc: 83.67\n",
            "Epoch: [7 / 15], batches: [300 / 782], loss: 0.465, acc: 84.14\n",
            "Epoch: [7 / 15], batches: [400 / 782], loss: 0.483, acc: 82.95\n",
            "Epoch: [7 / 15], batches: [500 / 782], loss: 0.480, acc: 83.11\n",
            "Epoch: [7 / 15], batches: [600 / 782], loss: 0.489, acc: 82.89\n",
            "Epoch: [7 / 15], batches: [700 / 782], loss: 0.490, acc: 83.02\n",
            "Epoch: [8 / 15], batches: [100 / 782], loss: 0.388, acc: 86.62\n",
            "Epoch: [8 / 15], batches: [200 / 782], loss: 0.392, acc: 86.48\n",
            "Epoch: [8 / 15], batches: [300 / 782], loss: 0.405, acc: 86.00\n",
            "Epoch: [8 / 15], batches: [400 / 782], loss: 0.418, acc: 85.70\n",
            "Epoch: [8 / 15], batches: [500 / 782], loss: 0.413, acc: 85.84\n",
            "Epoch: [8 / 15], batches: [600 / 782], loss: 0.429, acc: 85.25\n",
            "Epoch: [8 / 15], batches: [700 / 782], loss: 0.442, acc: 84.56\n",
            "Epoch: [9 / 15], batches: [100 / 782], loss: 0.303, acc: 89.75\n",
            "Epoch: [9 / 15], batches: [200 / 782], loss: 0.336, acc: 88.12\n",
            "Epoch: [9 / 15], batches: [300 / 782], loss: 0.361, acc: 87.50\n",
            "Epoch: [9 / 15], batches: [400 / 782], loss: 0.381, acc: 86.86\n",
            "Epoch: [9 / 15], batches: [500 / 782], loss: 0.375, acc: 87.09\n",
            "Epoch: [9 / 15], batches: [600 / 782], loss: 0.375, acc: 86.61\n",
            "Epoch: [9 / 15], batches: [700 / 782], loss: 0.394, acc: 86.23\n",
            "Epoch: [10 / 15], batches: [100 / 782], loss: 0.269, acc: 90.69\n",
            "Epoch: [10 / 15], batches: [200 / 782], loss: 0.281, acc: 90.50\n",
            "Epoch: [10 / 15], batches: [300 / 782], loss: 0.313, acc: 89.27\n",
            "Epoch: [10 / 15], batches: [400 / 782], loss: 0.305, acc: 89.20\n",
            "Epoch: [10 / 15], batches: [500 / 782], loss: 0.314, acc: 89.06\n",
            "Epoch: [10 / 15], batches: [600 / 782], loss: 0.346, acc: 88.27\n",
            "Epoch: [10 / 15], batches: [700 / 782], loss: 0.328, acc: 88.34\n",
            "Epoch: [11 / 15], batches: [100 / 782], loss: 0.224, acc: 92.25\n",
            "Epoch: [11 / 15], batches: [200 / 782], loss: 0.242, acc: 91.70\n",
            "Epoch: [11 / 15], batches: [300 / 782], loss: 0.252, acc: 91.41\n",
            "Epoch: [11 / 15], batches: [400 / 782], loss: 0.258, acc: 90.95\n",
            "Epoch: [11 / 15], batches: [500 / 782], loss: 0.303, acc: 89.56\n",
            "Epoch: [11 / 15], batches: [600 / 782], loss: 0.291, acc: 89.98\n",
            "Epoch: [11 / 15], batches: [700 / 782], loss: 0.278, acc: 90.12\n",
            "Epoch: [12 / 15], batches: [100 / 782], loss: 0.195, acc: 93.19\n",
            "Epoch: [12 / 15], batches: [200 / 782], loss: 0.211, acc: 92.92\n",
            "Epoch: [12 / 15], batches: [300 / 782], loss: 0.228, acc: 91.95\n",
            "Epoch: [12 / 15], batches: [400 / 782], loss: 0.255, acc: 91.02\n",
            "Epoch: [12 / 15], batches: [500 / 782], loss: 0.246, acc: 91.72\n",
            "Epoch: [12 / 15], batches: [600 / 782], loss: 0.277, acc: 90.56\n",
            "Epoch: [12 / 15], batches: [700 / 782], loss: 0.251, acc: 91.14\n",
            "Epoch: [13 / 15], batches: [100 / 782], loss: 0.162, acc: 94.17\n",
            "Epoch: [13 / 15], batches: [200 / 782], loss: 0.180, acc: 93.92\n",
            "Epoch: [13 / 15], batches: [300 / 782], loss: 0.226, acc: 92.16\n",
            "Epoch: [13 / 15], batches: [400 / 782], loss: 0.208, acc: 92.83\n",
            "Epoch: [13 / 15], batches: [500 / 782], loss: 0.214, acc: 92.45\n",
            "Epoch: [13 / 15], batches: [600 / 782], loss: 0.227, acc: 92.09\n",
            "Epoch: [13 / 15], batches: [700 / 782], loss: 0.253, acc: 91.48\n",
            "Epoch: [14 / 15], batches: [100 / 782], loss: 0.151, acc: 94.58\n",
            "Epoch: [14 / 15], batches: [200 / 782], loss: 0.156, acc: 94.59\n",
            "Epoch: [14 / 15], batches: [300 / 782], loss: 0.185, acc: 93.52\n",
            "Epoch: [14 / 15], batches: [400 / 782], loss: 0.175, acc: 93.97\n",
            "Epoch: [14 / 15], batches: [500 / 782], loss: 0.199, acc: 93.39\n",
            "Epoch: [14 / 15], batches: [600 / 782], loss: 0.198, acc: 93.36\n",
            "Epoch: [14 / 15], batches: [700 / 782], loss: 0.212, acc: 92.66\n",
            "Epoch: [15 / 15], batches: [100 / 782], loss: 0.125, acc: 95.44\n",
            "Epoch: [15 / 15], batches: [200 / 782], loss: 0.118, acc: 96.05\n",
            "Epoch: [15 / 15], batches: [300 / 782], loss: 0.159, acc: 94.48\n",
            "Epoch: [15 / 15], batches: [400 / 782], loss: 0.150, acc: 94.75\n",
            "Epoch: [15 / 15], batches: [500 / 782], loss: 0.187, acc: 93.78\n",
            "Epoch: [15 / 15], batches: [600 / 782], loss: 0.177, acc: 93.89\n",
            "Epoch: [15 / 15], batches: [700 / 782], loss: 0.173, acc: 93.92\n",
            "Finished Training\n"
          ]
        }
      ]
    },
    {
      "cell_type": "markdown",
      "source": [
        "## Test the CNN with BN, Dropout Regularization and Leaky ReLU\n",
        "\n",
        "Test this CNN on the test dataset."
      ],
      "metadata": {
        "id": "FdzJ0cpAfnoY"
      }
    },
    {
      "cell_type": "code",
      "source": [
        "save_model(net_conv_new, PATH)"
      ],
      "metadata": {
        "id": "slRRCxpGfrQf"
      },
      "execution_count": null,
      "outputs": []
    },
    {
      "cell_type": "code",
      "source": [
        "net = ConvolutionNetNew()\n",
        "\n",
        "load_model(net, PATH)"
      ],
      "metadata": {
        "colab": {
          "base_uri": "https://localhost:8080/"
        },
        "id": "uaBoqbYFfwgj",
        "outputId": "1e580fbd-8af8-4ed5-e489-9a73025e3ab8"
      },
      "execution_count": null,
      "outputs": [
        {
          "output_type": "stream",
          "name": "stderr",
          "text": [
            "<ipython-input-14-5d561a9e3963>:4: FutureWarning: You are using `torch.load` with `weights_only=False` (the current default value), which uses the default pickle module implicitly. It is possible to construct malicious pickle data which will execute arbitrary code during unpickling (See https://github.com/pytorch/pytorch/blob/main/SECURITY.md#untrusted-models for more details). In a future release, the default value for `weights_only` will be flipped to `True`. This limits the functions that could be executed during unpickling. Arbitrary objects will no longer be allowed to be loaded via this mode unless they are explicitly allowlisted by the user via `torch.serialization.add_safe_globals`. We recommend you start setting `weights_only=True` for any use case where you don't have full control of the loaded file. Please open an issue on GitHub for any issues related to this experimental feature.\n",
            "  net.load_state_dict(torch.load(PATH))\n"
          ]
        }
      ]
    },
    {
      "cell_type": "code",
      "source": [
        "test(net, testloader)"
      ],
      "metadata": {
        "colab": {
          "base_uri": "https://localhost:8080/"
        },
        "id": "YDyeh1iYHi9Q",
        "outputId": "78267094-c1dc-44ad-ae13-9ce96b636720"
      },
      "execution_count": null,
      "outputs": [
        {
          "output_type": "stream",
          "name": "stdout",
          "text": [
            "Accuracy of the network on the 10000 test images: 75 %\n"
          ]
        }
      ]
    },
    {
      "cell_type": "markdown",
      "source": [
        "## Accuracy (each class) of the updated CNN\n",
        "\n",
        "Test this updated CNN on the test dataset to see the accuracy of each class."
      ],
      "metadata": {
        "id": "lqd9zYqyf2aq"
      }
    },
    {
      "cell_type": "code",
      "source": [
        "class_test(net, testloader)"
      ],
      "metadata": {
        "colab": {
          "base_uri": "https://localhost:8080/"
        },
        "id": "k3VWaMpAf3Jg",
        "outputId": "a598970c-aaf2-440a-f346-24bff9fccb17"
      },
      "execution_count": null,
      "outputs": [
        {
          "output_type": "stream",
          "name": "stdout",
          "text": [
            "Accuracy for class plane is: 83.4 %\n",
            "Accuracy for class car   is: 87.4 %\n",
            "Accuracy for class bird  is: 57.5 %\n",
            "Accuracy for class cat   is: 51.0 %\n",
            "Accuracy for class deer  is: 66.6 %\n",
            "Accuracy for class dog   is: 67.9 %\n",
            "Accuracy for class frog  is: 84.0 %\n",
            "Accuracy for class horse is: 78.7 %\n",
            "Accuracy for class ship  is: 88.5 %\n",
            "Accuracy for class truck is: 86.2 %\n"
          ]
        }
      ]
    },
    {
      "cell_type": "markdown",
      "source": [
        "## Alterntive: VGG Block"
      ],
      "metadata": {
        "id": "y0Ye5Y3OnDTQ"
      }
    },
    {
      "cell_type": "code",
      "source": [
        "import torch.nn as nn\n",
        "import torch.nn.functional as F\n",
        "\n",
        "class VGG(nn.Module):\n",
        "    def __init__(self):\n",
        "        super(VGG, self).__init__()\n",
        "        self.conv1 = nn.Conv2d(3, 32, kernel_size=3, padding=1)\n",
        "        self.bn1 = nn.BatchNorm2d(32)\n",
        "        self.conv2 = nn.Conv2d(32, 32, kernel_size=3, padding=1)\n",
        "        self.bn2 = nn.BatchNorm2d(32)\n",
        "        self.pool1 = nn.MaxPool2d(kernel_size=2, stride=2)\n",
        "        self.dropout1 = nn.Dropout(p=0.2)\n",
        "\n",
        "        self.conv3 = nn.Conv2d(32, 64, kernel_size=3, padding=1)\n",
        "        self.bn3 = nn.BatchNorm2d(64)\n",
        "        self.conv4 = nn.Conv2d(64, 64, kernel_size=3, padding=1)\n",
        "        self.bn4 = nn.BatchNorm2d(64)\n",
        "        self.pool2 = nn.MaxPool2d(kernel_size=2, stride=2)\n",
        "        self.dropout2 = nn.Dropout(p=0.3)\n",
        "\n",
        "        self.conv5 = nn.Conv2d(64, 128, kernel_size=3, padding=1)\n",
        "        self.bn5 = nn.BatchNorm2d(128)\n",
        "        self.conv6 = nn.Conv2d(128, 128, kernel_size=3, padding=1)\n",
        "        self.bn6 = nn.BatchNorm2d(128)\n",
        "        self.pool3 = nn.MaxPool2d(kernel_size=2, stride=2)\n",
        "        self.dropout3 = nn.Dropout(p=0.4)\n",
        "\n",
        "        self.flatten = nn.Flatten()\n",
        "        self.fc1 = nn.Linear(128 * 4 * 4, 128)\n",
        "        self.bn7 = nn.BatchNorm1d(128)\n",
        "        self.dropout4 = nn.Dropout(p=0.5)\n",
        "        self.fc2 = nn.Linear(128, 10)\n",
        "\n",
        "    def forward(self, x):\n",
        "        x = F.relu(self.bn1(self.conv1(x)))\n",
        "        x = F.relu(self.bn2(self.conv2(x)))\n",
        "        x = self.pool1(x)\n",
        "        x = self.dropout1(x)\n",
        "\n",
        "        x = F.relu(self.bn3(self.conv3(x)))\n",
        "        x = F.relu(self.bn4(self.conv4(x)))\n",
        "        x = self.pool2(x)\n",
        "        x = self.dropout2(x)\n",
        "\n",
        "        x = F.relu(self.bn5(self.conv5(x)))\n",
        "        x = F.relu(self.bn6(self.conv6(x)))\n",
        "        x = self.pool3(x)\n",
        "        x = self.dropout3(x)\n",
        "\n",
        "        x = self.flatten(x)\n",
        "        x = F.relu(self.bn7(self.fc1(x)))\n",
        "        x = self.dropout4(x)\n",
        "        x = self.fc2(x)\n",
        "\n",
        "        return x\n",
        "\n",
        "vgg = VGG()"
      ],
      "metadata": {
        "id": "8EP-ChU4jhHr"
      },
      "execution_count": 19,
      "outputs": []
    },
    {
      "cell_type": "code",
      "source": [
        "import torch.optim as optim\n",
        "\n",
        "def get_optimizer_adam(net, lr):\n",
        "    optimizer = optim.Adam(net.parameters(), lr=lr, betas=(0.9, 0.999))\n",
        "    return optimizer\n",
        "\n",
        "criterion = nn.CrossEntropyLoss()\n",
        "optimizer = get_optimizer_adam(vgg, 0.001)"
      ],
      "metadata": {
        "id": "qma4jLTcjhAf"
      },
      "execution_count": 20,
      "outputs": []
    },
    {
      "cell_type": "code",
      "source": [
        "train(vgg, trainloader, optimizer, 15)"
      ],
      "metadata": {
        "colab": {
          "base_uri": "https://localhost:8080/"
        },
        "id": "hKYJTrbnjg3X",
        "outputId": "ce4041a5-4f49-4060-d6d2-6e79537c1586"
      },
      "execution_count": 21,
      "outputs": [
        {
          "output_type": "stream",
          "name": "stdout",
          "text": [
            "Epoch: [1 / 15], batches: [100 / 782], loss: 1.869, acc: 31.47\n",
            "Epoch: [1 / 15], batches: [200 / 782], loss: 1.540, acc: 44.17\n",
            "Epoch: [1 / 15], batches: [300 / 782], loss: 1.407, acc: 48.97\n",
            "Epoch: [1 / 15], batches: [400 / 782], loss: 1.307, acc: 53.19\n",
            "Epoch: [1 / 15], batches: [500 / 782], loss: 1.239, acc: 55.70\n",
            "Epoch: [1 / 15], batches: [600 / 782], loss: 1.186, acc: 57.55\n",
            "Epoch: [1 / 15], batches: [700 / 782], loss: 1.128, acc: 60.03\n",
            "Epoch: [2 / 15], batches: [100 / 782], loss: 1.041, acc: 63.19\n",
            "Epoch: [2 / 15], batches: [200 / 782], loss: 1.024, acc: 63.62\n",
            "Epoch: [2 / 15], batches: [300 / 782], loss: 1.022, acc: 64.31\n",
            "Epoch: [2 / 15], batches: [400 / 782], loss: 0.985, acc: 65.48\n",
            "Epoch: [2 / 15], batches: [500 / 782], loss: 0.928, acc: 68.03\n",
            "Epoch: [2 / 15], batches: [600 / 782], loss: 0.924, acc: 68.27\n",
            "Epoch: [2 / 15], batches: [700 / 782], loss: 0.899, acc: 68.28\n",
            "Epoch: [3 / 15], batches: [100 / 782], loss: 0.855, acc: 70.62\n",
            "Epoch: [3 / 15], batches: [200 / 782], loss: 0.849, acc: 70.33\n",
            "Epoch: [3 / 15], batches: [300 / 782], loss: 0.845, acc: 70.50\n",
            "Epoch: [3 / 15], batches: [400 / 782], loss: 0.843, acc: 70.28\n",
            "Epoch: [3 / 15], batches: [500 / 782], loss: 0.846, acc: 70.70\n",
            "Epoch: [3 / 15], batches: [600 / 782], loss: 0.830, acc: 71.22\n",
            "Epoch: [3 / 15], batches: [700 / 782], loss: 0.819, acc: 71.16\n",
            "Epoch: [4 / 15], batches: [100 / 782], loss: 0.784, acc: 72.89\n",
            "Epoch: [4 / 15], batches: [200 / 782], loss: 0.774, acc: 73.16\n",
            "Epoch: [4 / 15], batches: [300 / 782], loss: 0.742, acc: 74.73\n",
            "Epoch: [4 / 15], batches: [400 / 782], loss: 0.774, acc: 73.27\n",
            "Epoch: [4 / 15], batches: [500 / 782], loss: 0.765, acc: 73.88\n",
            "Epoch: [4 / 15], batches: [600 / 782], loss: 0.749, acc: 73.97\n",
            "Epoch: [4 / 15], batches: [700 / 782], loss: 0.742, acc: 74.28\n",
            "Epoch: [5 / 15], batches: [100 / 782], loss: 0.691, acc: 76.02\n",
            "Epoch: [5 / 15], batches: [200 / 782], loss: 0.698, acc: 75.95\n",
            "Epoch: [5 / 15], batches: [300 / 782], loss: 0.724, acc: 75.19\n",
            "Epoch: [5 / 15], batches: [400 / 782], loss: 0.719, acc: 75.94\n",
            "Epoch: [5 / 15], batches: [500 / 782], loss: 0.695, acc: 76.00\n",
            "Epoch: [5 / 15], batches: [600 / 782], loss: 0.692, acc: 76.00\n",
            "Epoch: [5 / 15], batches: [700 / 782], loss: 0.696, acc: 76.50\n",
            "Epoch: [6 / 15], batches: [100 / 782], loss: 0.656, acc: 77.59\n",
            "Epoch: [6 / 15], batches: [200 / 782], loss: 0.634, acc: 77.78\n",
            "Epoch: [6 / 15], batches: [300 / 782], loss: 0.657, acc: 77.72\n",
            "Epoch: [6 / 15], batches: [400 / 782], loss: 0.645, acc: 78.08\n",
            "Epoch: [6 / 15], batches: [500 / 782], loss: 0.661, acc: 77.47\n",
            "Epoch: [6 / 15], batches: [600 / 782], loss: 0.671, acc: 76.67\n",
            "Epoch: [6 / 15], batches: [700 / 782], loss: 0.639, acc: 78.41\n",
            "Epoch: [7 / 15], batches: [100 / 782], loss: 0.602, acc: 79.06\n",
            "Epoch: [7 / 15], batches: [200 / 782], loss: 0.608, acc: 78.83\n",
            "Epoch: [7 / 15], batches: [300 / 782], loss: 0.617, acc: 78.34\n",
            "Epoch: [7 / 15], batches: [400 / 782], loss: 0.628, acc: 78.84\n",
            "Epoch: [7 / 15], batches: [500 / 782], loss: 0.617, acc: 78.81\n",
            "Epoch: [7 / 15], batches: [600 / 782], loss: 0.625, acc: 78.77\n",
            "Epoch: [7 / 15], batches: [700 / 782], loss: 0.591, acc: 79.78\n",
            "Epoch: [8 / 15], batches: [100 / 782], loss: 0.568, acc: 80.91\n",
            "Epoch: [8 / 15], batches: [200 / 782], loss: 0.584, acc: 80.28\n",
            "Epoch: [8 / 15], batches: [300 / 782], loss: 0.579, acc: 79.91\n",
            "Epoch: [8 / 15], batches: [400 / 782], loss: 0.588, acc: 79.55\n",
            "Epoch: [8 / 15], batches: [500 / 782], loss: 0.586, acc: 80.28\n",
            "Epoch: [8 / 15], batches: [600 / 782], loss: 0.579, acc: 80.78\n",
            "Epoch: [8 / 15], batches: [700 / 782], loss: 0.571, acc: 80.80\n",
            "Epoch: [9 / 15], batches: [100 / 782], loss: 0.541, acc: 81.39\n",
            "Epoch: [9 / 15], batches: [200 / 782], loss: 0.534, acc: 81.62\n",
            "Epoch: [9 / 15], batches: [300 / 782], loss: 0.536, acc: 81.52\n",
            "Epoch: [9 / 15], batches: [400 / 782], loss: 0.564, acc: 80.62\n",
            "Epoch: [9 / 15], batches: [500 / 782], loss: 0.553, acc: 81.36\n",
            "Epoch: [9 / 15], batches: [600 / 782], loss: 0.540, acc: 81.75\n",
            "Epoch: [9 / 15], batches: [700 / 782], loss: 0.551, acc: 81.22\n",
            "Epoch: [10 / 15], batches: [100 / 782], loss: 0.523, acc: 82.20\n",
            "Epoch: [10 / 15], batches: [200 / 782], loss: 0.530, acc: 82.50\n",
            "Epoch: [10 / 15], batches: [300 / 782], loss: 0.522, acc: 82.11\n",
            "Epoch: [10 / 15], batches: [400 / 782], loss: 0.543, acc: 81.19\n",
            "Epoch: [10 / 15], batches: [500 / 782], loss: 0.521, acc: 82.31\n",
            "Epoch: [10 / 15], batches: [600 / 782], loss: 0.526, acc: 82.36\n",
            "Epoch: [10 / 15], batches: [700 / 782], loss: 0.504, acc: 82.62\n",
            "Epoch: [11 / 15], batches: [100 / 782], loss: 0.493, acc: 83.19\n",
            "Epoch: [11 / 15], batches: [200 / 782], loss: 0.494, acc: 83.25\n",
            "Epoch: [11 / 15], batches: [300 / 782], loss: 0.467, acc: 83.84\n",
            "Epoch: [11 / 15], batches: [400 / 782], loss: 0.511, acc: 82.31\n",
            "Epoch: [11 / 15], batches: [500 / 782], loss: 0.511, acc: 82.70\n",
            "Epoch: [11 / 15], batches: [600 / 782], loss: 0.501, acc: 83.33\n",
            "Epoch: [11 / 15], batches: [700 / 782], loss: 0.515, acc: 82.62\n",
            "Epoch: [12 / 15], batches: [100 / 782], loss: 0.451, acc: 83.94\n",
            "Epoch: [12 / 15], batches: [200 / 782], loss: 0.478, acc: 83.75\n",
            "Epoch: [12 / 15], batches: [300 / 782], loss: 0.454, acc: 84.45\n",
            "Epoch: [12 / 15], batches: [400 / 782], loss: 0.500, acc: 83.22\n",
            "Epoch: [12 / 15], batches: [500 / 782], loss: 0.495, acc: 83.42\n",
            "Epoch: [12 / 15], batches: [600 / 782], loss: 0.491, acc: 83.50\n",
            "Epoch: [12 / 15], batches: [700 / 782], loss: 0.471, acc: 83.36\n",
            "Epoch: [13 / 15], batches: [100 / 782], loss: 0.477, acc: 83.59\n",
            "Epoch: [13 / 15], batches: [200 / 782], loss: 0.425, acc: 85.48\n",
            "Epoch: [13 / 15], batches: [300 / 782], loss: 0.466, acc: 83.95\n",
            "Epoch: [13 / 15], batches: [400 / 782], loss: 0.460, acc: 84.20\n",
            "Epoch: [13 / 15], batches: [500 / 782], loss: 0.464, acc: 83.66\n",
            "Epoch: [13 / 15], batches: [600 / 782], loss: 0.483, acc: 83.66\n",
            "Epoch: [13 / 15], batches: [700 / 782], loss: 0.479, acc: 83.61\n",
            "Epoch: [14 / 15], batches: [100 / 782], loss: 0.450, acc: 84.36\n",
            "Epoch: [14 / 15], batches: [200 / 782], loss: 0.425, acc: 85.80\n",
            "Epoch: [14 / 15], batches: [300 / 782], loss: 0.430, acc: 85.08\n",
            "Epoch: [14 / 15], batches: [400 / 782], loss: 0.451, acc: 84.61\n",
            "Epoch: [14 / 15], batches: [500 / 782], loss: 0.446, acc: 84.86\n",
            "Epoch: [14 / 15], batches: [600 / 782], loss: 0.441, acc: 84.91\n",
            "Epoch: [14 / 15], batches: [700 / 782], loss: 0.449, acc: 84.77\n",
            "Epoch: [15 / 15], batches: [100 / 782], loss: 0.439, acc: 84.91\n",
            "Epoch: [15 / 15], batches: [200 / 782], loss: 0.408, acc: 86.02\n",
            "Epoch: [15 / 15], batches: [300 / 782], loss: 0.431, acc: 85.05\n",
            "Epoch: [15 / 15], batches: [400 / 782], loss: 0.432, acc: 85.30\n",
            "Epoch: [15 / 15], batches: [500 / 782], loss: 0.453, acc: 84.11\n",
            "Epoch: [15 / 15], batches: [600 / 782], loss: 0.449, acc: 84.72\n",
            "Epoch: [15 / 15], batches: [700 / 782], loss: 0.417, acc: 85.89\n",
            "Finished Training\n"
          ]
        }
      ]
    },
    {
      "cell_type": "code",
      "source": [
        "save_model(vgg, PATH)"
      ],
      "metadata": {
        "id": "vMM8aNPMj0Tk"
      },
      "execution_count": 24,
      "outputs": []
    },
    {
      "cell_type": "code",
      "source": [
        "net = VGG()\n",
        "\n",
        "load_model(net, PATH)"
      ],
      "metadata": {
        "id": "2rv6GgUhj0Iz",
        "colab": {
          "base_uri": "https://localhost:8080/"
        },
        "outputId": "d8d7329a-11e5-47f6-c345-49d3d98d63ec"
      },
      "execution_count": 25,
      "outputs": [
        {
          "output_type": "stream",
          "name": "stderr",
          "text": [
            "<ipython-input-10-5d561a9e3963>:4: FutureWarning: You are using `torch.load` with `weights_only=False` (the current default value), which uses the default pickle module implicitly. It is possible to construct malicious pickle data which will execute arbitrary code during unpickling (See https://github.com/pytorch/pytorch/blob/main/SECURITY.md#untrusted-models for more details). In a future release, the default value for `weights_only` will be flipped to `True`. This limits the functions that could be executed during unpickling. Arbitrary objects will no longer be allowed to be loaded via this mode unless they are explicitly allowlisted by the user via `torch.serialization.add_safe_globals`. We recommend you start setting `weights_only=True` for any use case where you don't have full control of the loaded file. Please open an issue on GitHub for any issues related to this experimental feature.\n",
            "  net.load_state_dict(torch.load(PATH))\n"
          ]
        }
      ]
    },
    {
      "cell_type": "code",
      "source": [
        "test(net, testloader)"
      ],
      "metadata": {
        "id": "k0uxmwTejz6Z",
        "colab": {
          "base_uri": "https://localhost:8080/"
        },
        "outputId": "bf04f8ba-c8a1-4d17-dd5a-379a33b2ea8c"
      },
      "execution_count": 26,
      "outputs": [
        {
          "output_type": "stream",
          "name": "stdout",
          "text": [
            "Accuracy of the network on the 10000 test images: 84 %\n"
          ]
        }
      ]
    },
    {
      "cell_type": "code",
      "source": [
        "class_test(net, testloader)"
      ],
      "metadata": {
        "id": "TuwApWI-j8hM",
        "colab": {
          "base_uri": "https://localhost:8080/"
        },
        "outputId": "a165fa2a-ebe1-4963-ac0a-f6aedfb11d83"
      },
      "execution_count": 27,
      "outputs": [
        {
          "output_type": "stream",
          "name": "stdout",
          "text": [
            "Accuracy for class plane is: 84.1 %\n",
            "Accuracy for class car   is: 94.0 %\n",
            "Accuracy for class bird  is: 81.0 %\n",
            "Accuracy for class cat   is: 71.6 %\n",
            "Accuracy for class deer  is: 86.5 %\n",
            "Accuracy for class dog   is: 70.9 %\n",
            "Accuracy for class frog  is: 93.0 %\n",
            "Accuracy for class horse is: 85.0 %\n",
            "Accuracy for class ship  is: 92.0 %\n",
            "Accuracy for class truck is: 87.3 %\n"
          ]
        }
      ]
    },
    {
      "cell_type": "markdown",
      "metadata": {
        "id": "i8bjmLK-_tYz"
      },
      "source": [
        "## Good Job!"
      ]
    }
  ],
  "metadata": {
    "kernelspec": {
      "display_name": "Python 3",
      "name": "python3"
    },
    "language_info": {
      "codemirror_mode": {
        "name": "ipython",
        "version": 3
      },
      "file_extension": ".py",
      "mimetype": "text/x-python",
      "name": "python",
      "nbconvert_exporter": "python",
      "pygments_lexer": "ipython3",
      "version": "3.11.9"
    },
    "colab": {
      "provenance": [],
      "gpuType": "T4"
    },
    "accelerator": "GPU"
  },
  "nbformat": 4,
  "nbformat_minor": 0
}